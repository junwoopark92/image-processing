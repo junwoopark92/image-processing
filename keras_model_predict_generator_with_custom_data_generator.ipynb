{
 "cells": [
  {
   "cell_type": "markdown",
   "metadata": {},
   "source": [
    "### env\n",
    "multi_cpu\n",
    "\n",
    "### purpose\n",
    "이미지의 경우 DISK IO 혹은 http connection을 통한 메모리에 로딩하는 시간이 너무김\n",
    "위 경우 multiprocessing을 통하여 시간을 줄일수 있음, 단 서버혹은 DISK IO에 여유가 있는 상황\n",
    "\n",
    "keras model에는 predict_generator가 있고 이를 통해 multi로 이용가능\n",
    "일반적인 경우 데이터가 class별로 한 디렉토리에 있는 구조에서는 keras의 ImageDataGenerator 클래스를 이용하면 됨\n",
    "\n",
    "그러나, 위의 구조로 이미지가 존재하지 않거나 url을 통해 받아오는 경우는 위 클래스 이용불가\n",
    "따라서, custom된 generator를 만들어야함, 이때 keras.utils.Sequence를 상속받아야 multiprocessing을 사용하더라도 input ordering에 문제가 없음\n",
    "\n",
    "### ref\n",
    "https://stanford.edu/~shervine/blog/keras-how-to-generate-data-on-the-fly.html"
   ]
  },
  {
   "cell_type": "code",
   "execution_count": 1,
   "metadata": {},
   "outputs": [
    {
     "name": "stderr",
     "output_type": "stream",
     "text": [
      "Using TensorFlow backend.\n"
     ]
    }
   ],
   "source": [
    "import keras"
   ]
  },
  {
   "cell_type": "code",
   "execution_count": 2,
   "metadata": {},
   "outputs": [],
   "source": [
    "from keras.preprocessing import image\n",
    "from keras.applications.resnet50 import ResNet50\n",
    "from keras.applications.resnet50 import preprocess_input"
   ]
  },
  {
   "cell_type": "code",
   "execution_count": 3,
   "metadata": {
    "collapsed": true
   },
   "outputs": [],
   "source": [
    "import pandas as pd\n",
    "from PIL import Image\n",
    "from io import BytesIO\n",
    "import requests\n",
    "import numpy as np"
   ]
  },
  {
   "cell_type": "code",
   "execution_count": 4,
   "metadata": {
    "scrolled": true
   },
   "outputs": [
    {
     "data": {
      "text/html": [
       "<div>\n",
       "<style>\n",
       "    .dataframe thead tr:only-child th {\n",
       "        text-align: right;\n",
       "    }\n",
       "\n",
       "    .dataframe thead th {\n",
       "        text-align: left;\n",
       "    }\n",
       "\n",
       "    .dataframe tbody tr th {\n",
       "        vertical-align: top;\n",
       "    }\n",
       "</style>\n",
       "<table border=\"1\" class=\"dataframe\">\n",
       "  <thead>\n",
       "    <tr style=\"text-align: right;\">\n",
       "      <th></th>\n",
       "      <th>id</th>\n",
       "      <th>url</th>\n",
       "    </tr>\n",
       "  </thead>\n",
       "  <tbody>\n",
       "    <tr>\n",
       "      <th>0</th>\n",
       "      <td>000088da12d664db</td>\n",
       "      <td>https://lh3.googleusercontent.com/-k45wfamuhT8...</td>\n",
       "    </tr>\n",
       "    <tr>\n",
       "      <th>1</th>\n",
       "      <td>0001623c6d808702</td>\n",
       "      <td>https://lh3.googleusercontent.com/-OQ0ywv8KVIA...</td>\n",
       "    </tr>\n",
       "    <tr>\n",
       "      <th>2</th>\n",
       "      <td>0001bbb682d45002</td>\n",
       "      <td>https://lh3.googleusercontent.com/-kloLenz1xZk...</td>\n",
       "    </tr>\n",
       "    <tr>\n",
       "      <th>3</th>\n",
       "      <td>0002362830cfe3a3</td>\n",
       "      <td>https://lh3.googleusercontent.com/-N6z79jNZYTg...</td>\n",
       "    </tr>\n",
       "    <tr>\n",
       "      <th>4</th>\n",
       "      <td>000270c9100de789</td>\n",
       "      <td>https://lh3.googleusercontent.com/-keriHaVOq1U...</td>\n",
       "    </tr>\n",
       "    <tr>\n",
       "      <th>5</th>\n",
       "      <td>0002b0fab5d3ccc4</td>\n",
       "      <td>https://lh3.googleusercontent.com/-ciWklpsrab8...</td>\n",
       "    </tr>\n",
       "    <tr>\n",
       "      <th>6</th>\n",
       "      <td>000396be3c24830a</td>\n",
       "      <td>https://lh3.googleusercontent.com/-6W9F179t59Q...</td>\n",
       "    </tr>\n",
       "    <tr>\n",
       "      <th>7</th>\n",
       "      <td>000506dc6ab3a40e</td>\n",
       "      <td>https://lh3.googleusercontent.com/-_XHsAXB2LZA...</td>\n",
       "    </tr>\n",
       "    <tr>\n",
       "      <th>8</th>\n",
       "      <td>0005292fc4b005a3</td>\n",
       "      <td>https://lh3.googleusercontent.com/-RBZ4F1ZKNc0...</td>\n",
       "    </tr>\n",
       "    <tr>\n",
       "      <th>9</th>\n",
       "      <td>0005456a82264bc8</td>\n",
       "      <td>https://lh3.googleusercontent.com/-MRK7_uiKO6A...</td>\n",
       "    </tr>\n",
       "    <tr>\n",
       "      <th>10</th>\n",
       "      <td>00055cf2bfb5594a</td>\n",
       "      <td>https://lh3.googleusercontent.com/-05j3pWNM-Xs...</td>\n",
       "    </tr>\n",
       "    <tr>\n",
       "      <th>11</th>\n",
       "      <td>000664eed4a70821</td>\n",
       "      <td>https://lh3.googleusercontent.com/-leF7EIF_wAA...</td>\n",
       "    </tr>\n",
       "    <tr>\n",
       "      <th>12</th>\n",
       "      <td>0006aea5b6f4eaaa</td>\n",
       "      <td>https://lh3.googleusercontent.com/-xtRc58tSwf8...</td>\n",
       "    </tr>\n",
       "    <tr>\n",
       "      <th>13</th>\n",
       "      <td>0006bbfa00dd6c0f</td>\n",
       "      <td>https://lh3.googleusercontent.com/-wR09UThTiMM...</td>\n",
       "    </tr>\n",
       "    <tr>\n",
       "      <th>14</th>\n",
       "      <td>0008aee1c0abed9d</td>\n",
       "      <td>https://lh3.googleusercontent.com/-NHH4ni5OXco...</td>\n",
       "    </tr>\n",
       "    <tr>\n",
       "      <th>15</th>\n",
       "      <td>0008de5f3c25d563</td>\n",
       "      <td>https://lh3.googleusercontent.com/-y4PP15jT_eU...</td>\n",
       "    </tr>\n",
       "    <tr>\n",
       "      <th>16</th>\n",
       "      <td>00094466c9f054f4</td>\n",
       "      <td>https://lh3.googleusercontent.com/-AbzwBhs3ELk...</td>\n",
       "    </tr>\n",
       "    <tr>\n",
       "      <th>17</th>\n",
       "      <td>0009f09a69405693</td>\n",
       "      <td>https://lh3.googleusercontent.com/-KGZBdf69p-I...</td>\n",
       "    </tr>\n",
       "    <tr>\n",
       "      <th>18</th>\n",
       "      <td>000a7f4a25af7558</td>\n",
       "      <td>https://lh3.googleusercontent.com/-fQSqtaWN_5A...</td>\n",
       "    </tr>\n",
       "    <tr>\n",
       "      <th>19</th>\n",
       "      <td>000a9180e4dc8705</td>\n",
       "      <td>https://lh3.googleusercontent.com/-1fn2uFbifCY...</td>\n",
       "    </tr>\n",
       "    <tr>\n",
       "      <th>20</th>\n",
       "      <td>000aee511bc53f8b</td>\n",
       "      <td>https://lh3.googleusercontent.com/-1jphKlgrYrY...</td>\n",
       "    </tr>\n",
       "    <tr>\n",
       "      <th>21</th>\n",
       "      <td>000b55ddc1160a12</td>\n",
       "      <td>https://lh3.googleusercontent.com/-AjwPX9KwYnM...</td>\n",
       "    </tr>\n",
       "    <tr>\n",
       "      <th>22</th>\n",
       "      <td>000c08916d77b8ba</td>\n",
       "      <td>https://lh3.googleusercontent.com/-laXvFg-7Bho...</td>\n",
       "    </tr>\n",
       "    <tr>\n",
       "      <th>23</th>\n",
       "      <td>000c2a80838aabff</td>\n",
       "      <td>https://lh3.googleusercontent.com/-va7iCBpgrr4...</td>\n",
       "    </tr>\n",
       "    <tr>\n",
       "      <th>24</th>\n",
       "      <td>000dad8a776a3631</td>\n",
       "      <td>https://lh3.googleusercontent.com/-msZDW4dNwx4...</td>\n",
       "    </tr>\n",
       "    <tr>\n",
       "      <th>25</th>\n",
       "      <td>000e30f1e5b32741</td>\n",
       "      <td>https://lh3.googleusercontent.com/-3pC8jIAiXKE...</td>\n",
       "    </tr>\n",
       "    <tr>\n",
       "      <th>26</th>\n",
       "      <td>000e47a43eb8a307</td>\n",
       "      <td>https://lh3.googleusercontent.com/-g-LKisKsl_8...</td>\n",
       "    </tr>\n",
       "    <tr>\n",
       "      <th>27</th>\n",
       "      <td>00108ec72b2344bd</td>\n",
       "      <td>https://lh3.googleusercontent.com/-XBIVaHIi44A...</td>\n",
       "    </tr>\n",
       "    <tr>\n",
       "      <th>28</th>\n",
       "      <td>0010ab920bac8640</td>\n",
       "      <td>https://lh3.googleusercontent.com/-WUYvoHWeOCc...</td>\n",
       "    </tr>\n",
       "    <tr>\n",
       "      <th>29</th>\n",
       "      <td>0010e7cad366d6fa</td>\n",
       "      <td>https://lh3.googleusercontent.com/-IjqS44Qf5bI...</td>\n",
       "    </tr>\n",
       "    <tr>\n",
       "      <th>...</th>\n",
       "      <td>...</td>\n",
       "      <td>...</td>\n",
       "    </tr>\n",
       "    <tr>\n",
       "      <th>117673</th>\n",
       "      <td>fff20cf29ee585da</td>\n",
       "      <td>https://lh3.googleusercontent.com/-ZruMxLGd1lY...</td>\n",
       "    </tr>\n",
       "    <tr>\n",
       "      <th>117674</th>\n",
       "      <td>fff228be319ee860</td>\n",
       "      <td>https://lh3.googleusercontent.com/-fbYxrTgJFXs...</td>\n",
       "    </tr>\n",
       "    <tr>\n",
       "      <th>117675</th>\n",
       "      <td>fff2a679829794e5</td>\n",
       "      <td>https://lh3.googleusercontent.com/-QFqsGDJmoUU...</td>\n",
       "    </tr>\n",
       "    <tr>\n",
       "      <th>117676</th>\n",
       "      <td>fff46e8af33ac538</td>\n",
       "      <td>https://lh3.googleusercontent.com/-5__2sQu5shM...</td>\n",
       "    </tr>\n",
       "    <tr>\n",
       "      <th>117677</th>\n",
       "      <td>fff4deb617803fa6</td>\n",
       "      <td>https://lh3.googleusercontent.com/-feELD337m8U...</td>\n",
       "    </tr>\n",
       "    <tr>\n",
       "      <th>117678</th>\n",
       "      <td>fff4e49536a3b50f</td>\n",
       "      <td>https://lh3.googleusercontent.com/-1E_FsgCQLzQ...</td>\n",
       "    </tr>\n",
       "    <tr>\n",
       "      <th>117679</th>\n",
       "      <td>fff67ee3e4aa6603</td>\n",
       "      <td>https://lh3.googleusercontent.com/-E2gO4KYaAk4...</td>\n",
       "    </tr>\n",
       "    <tr>\n",
       "      <th>117680</th>\n",
       "      <td>fff722fdb8d5ee5c</td>\n",
       "      <td>https://lh3.googleusercontent.com/-eBpGwryD4hk...</td>\n",
       "    </tr>\n",
       "    <tr>\n",
       "      <th>117681</th>\n",
       "      <td>fff75a490e014c49</td>\n",
       "      <td>https://lh3.googleusercontent.com/-SrhkGfPvakY...</td>\n",
       "    </tr>\n",
       "    <tr>\n",
       "      <th>117682</th>\n",
       "      <td>fff7911054054cba</td>\n",
       "      <td>https://lh3.googleusercontent.com/-ItZ7Vjsbctg...</td>\n",
       "    </tr>\n",
       "    <tr>\n",
       "      <th>117683</th>\n",
       "      <td>fff7dd6b72e348c1</td>\n",
       "      <td>https://lh3.googleusercontent.com/-0L_gepf1ihE...</td>\n",
       "    </tr>\n",
       "    <tr>\n",
       "      <th>117684</th>\n",
       "      <td>fff89aab5ca0ffaa</td>\n",
       "      <td>https://lh3.googleusercontent.com/-VDtkc335X5Q...</td>\n",
       "    </tr>\n",
       "    <tr>\n",
       "      <th>117685</th>\n",
       "      <td>fff8a7beae129480</td>\n",
       "      <td>https://lh3.googleusercontent.com/-Jnl3YpLwEvU...</td>\n",
       "    </tr>\n",
       "    <tr>\n",
       "      <th>117686</th>\n",
       "      <td>fff9c506c5c34ed5</td>\n",
       "      <td>https://lh3.googleusercontent.com/-Ap2UPEYpmQ8...</td>\n",
       "    </tr>\n",
       "    <tr>\n",
       "      <th>117687</th>\n",
       "      <td>fffa1180a488b864</td>\n",
       "      <td>https://lh3.googleusercontent.com/-k-YJ1AO33qg...</td>\n",
       "    </tr>\n",
       "    <tr>\n",
       "      <th>117688</th>\n",
       "      <td>fffa6c89314aa675</td>\n",
       "      <td>https://lh3.googleusercontent.com/-r9VsSgkKlLA...</td>\n",
       "    </tr>\n",
       "    <tr>\n",
       "      <th>117689</th>\n",
       "      <td>fffad9311dc8803e</td>\n",
       "      <td>https://lh3.googleusercontent.com/-6SGG7mNciG0...</td>\n",
       "    </tr>\n",
       "    <tr>\n",
       "      <th>117690</th>\n",
       "      <td>fffadbb8c2e69651</td>\n",
       "      <td>https://lh3.googleusercontent.com/-gO02tSLwW2M...</td>\n",
       "    </tr>\n",
       "    <tr>\n",
       "      <th>117691</th>\n",
       "      <td>fffba89fd874980b</td>\n",
       "      <td>https://lh3.googleusercontent.com/-lkos9fkfAjk...</td>\n",
       "    </tr>\n",
       "    <tr>\n",
       "      <th>117692</th>\n",
       "      <td>fffbf40d8b1bae4a</td>\n",
       "      <td>https://lh3.googleusercontent.com/-3xCCfXuB7ys...</td>\n",
       "    </tr>\n",
       "    <tr>\n",
       "      <th>117693</th>\n",
       "      <td>fffc2bd3256e355b</td>\n",
       "      <td>https://lh3.googleusercontent.com/-RREQEq10ze4...</td>\n",
       "    </tr>\n",
       "    <tr>\n",
       "      <th>117694</th>\n",
       "      <td>fffd25c399a01768</td>\n",
       "      <td>https://lh3.googleusercontent.com/-XXG85OqQDE8...</td>\n",
       "    </tr>\n",
       "    <tr>\n",
       "      <th>117695</th>\n",
       "      <td>fffd83d581141754</td>\n",
       "      <td>https://lh3.googleusercontent.com/--p5Cnl29aNw...</td>\n",
       "    </tr>\n",
       "    <tr>\n",
       "      <th>117696</th>\n",
       "      <td>fffe111bbd323a8c</td>\n",
       "      <td>https://lh3.googleusercontent.com/-ztSMOkMOcYI...</td>\n",
       "    </tr>\n",
       "    <tr>\n",
       "      <th>117697</th>\n",
       "      <td>fffe1eb76fe6bd94</td>\n",
       "      <td>https://lh3.googleusercontent.com/-ivjlb8yoHZY...</td>\n",
       "    </tr>\n",
       "    <tr>\n",
       "      <th>117698</th>\n",
       "      <td>fffecaa7a64a1649</td>\n",
       "      <td>https://lh3.googleusercontent.com/-FHoveAvWkLA...</td>\n",
       "    </tr>\n",
       "    <tr>\n",
       "      <th>117699</th>\n",
       "      <td>ffff1a051dab1f7a</td>\n",
       "      <td>https://lh3.googleusercontent.com/-RUA3eMNNuT0...</td>\n",
       "    </tr>\n",
       "    <tr>\n",
       "      <th>117700</th>\n",
       "      <td>ffff2f7b0f69b804</td>\n",
       "      <td>https://lh3.googleusercontent.com/-Riwkeos_42U...</td>\n",
       "    </tr>\n",
       "    <tr>\n",
       "      <th>117701</th>\n",
       "      <td>ffff5d1e486c7226</td>\n",
       "      <td>https://lh3.googleusercontent.com/-VZX_UxKRlXU...</td>\n",
       "    </tr>\n",
       "    <tr>\n",
       "      <th>117702</th>\n",
       "      <td>ffffd526f7e18b49</td>\n",
       "      <td>https://lh3.googleusercontent.com/-RICzgy2caZw...</td>\n",
       "    </tr>\n",
       "  </tbody>\n",
       "</table>\n",
       "<p>117703 rows × 2 columns</p>\n",
       "</div>"
      ],
      "text/plain": [
       "                      id                                                url\n",
       "0       000088da12d664db  https://lh3.googleusercontent.com/-k45wfamuhT8...\n",
       "1       0001623c6d808702  https://lh3.googleusercontent.com/-OQ0ywv8KVIA...\n",
       "2       0001bbb682d45002  https://lh3.googleusercontent.com/-kloLenz1xZk...\n",
       "3       0002362830cfe3a3  https://lh3.googleusercontent.com/-N6z79jNZYTg...\n",
       "4       000270c9100de789  https://lh3.googleusercontent.com/-keriHaVOq1U...\n",
       "5       0002b0fab5d3ccc4  https://lh3.googleusercontent.com/-ciWklpsrab8...\n",
       "6       000396be3c24830a  https://lh3.googleusercontent.com/-6W9F179t59Q...\n",
       "7       000506dc6ab3a40e  https://lh3.googleusercontent.com/-_XHsAXB2LZA...\n",
       "8       0005292fc4b005a3  https://lh3.googleusercontent.com/-RBZ4F1ZKNc0...\n",
       "9       0005456a82264bc8  https://lh3.googleusercontent.com/-MRK7_uiKO6A...\n",
       "10      00055cf2bfb5594a  https://lh3.googleusercontent.com/-05j3pWNM-Xs...\n",
       "11      000664eed4a70821  https://lh3.googleusercontent.com/-leF7EIF_wAA...\n",
       "12      0006aea5b6f4eaaa  https://lh3.googleusercontent.com/-xtRc58tSwf8...\n",
       "13      0006bbfa00dd6c0f  https://lh3.googleusercontent.com/-wR09UThTiMM...\n",
       "14      0008aee1c0abed9d  https://lh3.googleusercontent.com/-NHH4ni5OXco...\n",
       "15      0008de5f3c25d563  https://lh3.googleusercontent.com/-y4PP15jT_eU...\n",
       "16      00094466c9f054f4  https://lh3.googleusercontent.com/-AbzwBhs3ELk...\n",
       "17      0009f09a69405693  https://lh3.googleusercontent.com/-KGZBdf69p-I...\n",
       "18      000a7f4a25af7558  https://lh3.googleusercontent.com/-fQSqtaWN_5A...\n",
       "19      000a9180e4dc8705  https://lh3.googleusercontent.com/-1fn2uFbifCY...\n",
       "20      000aee511bc53f8b  https://lh3.googleusercontent.com/-1jphKlgrYrY...\n",
       "21      000b55ddc1160a12  https://lh3.googleusercontent.com/-AjwPX9KwYnM...\n",
       "22      000c08916d77b8ba  https://lh3.googleusercontent.com/-laXvFg-7Bho...\n",
       "23      000c2a80838aabff  https://lh3.googleusercontent.com/-va7iCBpgrr4...\n",
       "24      000dad8a776a3631  https://lh3.googleusercontent.com/-msZDW4dNwx4...\n",
       "25      000e30f1e5b32741  https://lh3.googleusercontent.com/-3pC8jIAiXKE...\n",
       "26      000e47a43eb8a307  https://lh3.googleusercontent.com/-g-LKisKsl_8...\n",
       "27      00108ec72b2344bd  https://lh3.googleusercontent.com/-XBIVaHIi44A...\n",
       "28      0010ab920bac8640  https://lh3.googleusercontent.com/-WUYvoHWeOCc...\n",
       "29      0010e7cad366d6fa  https://lh3.googleusercontent.com/-IjqS44Qf5bI...\n",
       "...                  ...                                                ...\n",
       "117673  fff20cf29ee585da  https://lh3.googleusercontent.com/-ZruMxLGd1lY...\n",
       "117674  fff228be319ee860  https://lh3.googleusercontent.com/-fbYxrTgJFXs...\n",
       "117675  fff2a679829794e5  https://lh3.googleusercontent.com/-QFqsGDJmoUU...\n",
       "117676  fff46e8af33ac538  https://lh3.googleusercontent.com/-5__2sQu5shM...\n",
       "117677  fff4deb617803fa6  https://lh3.googleusercontent.com/-feELD337m8U...\n",
       "117678  fff4e49536a3b50f  https://lh3.googleusercontent.com/-1E_FsgCQLzQ...\n",
       "117679  fff67ee3e4aa6603  https://lh3.googleusercontent.com/-E2gO4KYaAk4...\n",
       "117680  fff722fdb8d5ee5c  https://lh3.googleusercontent.com/-eBpGwryD4hk...\n",
       "117681  fff75a490e014c49  https://lh3.googleusercontent.com/-SrhkGfPvakY...\n",
       "117682  fff7911054054cba  https://lh3.googleusercontent.com/-ItZ7Vjsbctg...\n",
       "117683  fff7dd6b72e348c1  https://lh3.googleusercontent.com/-0L_gepf1ihE...\n",
       "117684  fff89aab5ca0ffaa  https://lh3.googleusercontent.com/-VDtkc335X5Q...\n",
       "117685  fff8a7beae129480  https://lh3.googleusercontent.com/-Jnl3YpLwEvU...\n",
       "117686  fff9c506c5c34ed5  https://lh3.googleusercontent.com/-Ap2UPEYpmQ8...\n",
       "117687  fffa1180a488b864  https://lh3.googleusercontent.com/-k-YJ1AO33qg...\n",
       "117688  fffa6c89314aa675  https://lh3.googleusercontent.com/-r9VsSgkKlLA...\n",
       "117689  fffad9311dc8803e  https://lh3.googleusercontent.com/-6SGG7mNciG0...\n",
       "117690  fffadbb8c2e69651  https://lh3.googleusercontent.com/-gO02tSLwW2M...\n",
       "117691  fffba89fd874980b  https://lh3.googleusercontent.com/-lkos9fkfAjk...\n",
       "117692  fffbf40d8b1bae4a  https://lh3.googleusercontent.com/-3xCCfXuB7ys...\n",
       "117693  fffc2bd3256e355b  https://lh3.googleusercontent.com/-RREQEq10ze4...\n",
       "117694  fffd25c399a01768  https://lh3.googleusercontent.com/-XXG85OqQDE8...\n",
       "117695  fffd83d581141754  https://lh3.googleusercontent.com/--p5Cnl29aNw...\n",
       "117696  fffe111bbd323a8c  https://lh3.googleusercontent.com/-ztSMOkMOcYI...\n",
       "117697  fffe1eb76fe6bd94  https://lh3.googleusercontent.com/-ivjlb8yoHZY...\n",
       "117698  fffecaa7a64a1649  https://lh3.googleusercontent.com/-FHoveAvWkLA...\n",
       "117699  ffff1a051dab1f7a  https://lh3.googleusercontent.com/-RUA3eMNNuT0...\n",
       "117700  ffff2f7b0f69b804  https://lh3.googleusercontent.com/-Riwkeos_42U...\n",
       "117701  ffff5d1e486c7226  https://lh3.googleusercontent.com/-VZX_UxKRlXU...\n",
       "117702  ffffd526f7e18b49  https://lh3.googleusercontent.com/-RICzgy2caZw...\n",
       "\n",
       "[117703 rows x 2 columns]"
      ]
     },
     "execution_count": 4,
     "metadata": {},
     "output_type": "execute_result"
    }
   ],
   "source": [
    "sample_df = pd.read_csv('./sample_url.csv') # this csv is kaggle example\n",
    "sample_df"
   ]
  },
  {
   "cell_type": "code",
   "execution_count": 5,
   "metadata": {},
   "outputs": [],
   "source": [
    "def image2feature(img_url):\n",
    "    try:\n",
    "        response = requests.get(img_url)\n",
    "        img = Image.open(BytesIO(response.content))\n",
    "        img = img.resize((224,224),Image.ANTIALIAS)\n",
    "        img = img.convert(\"RGB\")\n",
    "        img_data = image.img_to_array(img)\n",
    "        img_data = np.expand_dims(img,axis=0)\n",
    "        img_data = img_data.copy()\n",
    "        img_data = img_data.astype(\"float32\")\n",
    "        img_data = preprocess_input(img_data)\n",
    "    except Exception as e:\n",
    "        print('bug: ',e,'url: ',img_url)\n",
    "        img_data = np.zeros((1,224,224,3))\n",
    "    \n",
    "    return img_data.tolist()"
   ]
  },
  {
   "cell_type": "code",
   "execution_count": 6,
   "metadata": {},
   "outputs": [
    {
     "data": {
      "text/plain": [
       "(1, 224, 224, 3)"
      ]
     },
     "execution_count": 6,
     "metadata": {},
     "output_type": "execute_result"
    }
   ],
   "source": [
    "sample = image2feature(sample_df.url.iloc[2])\n",
    "np.array(sample).shape"
   ]
  },
  {
   "cell_type": "code",
   "execution_count": 7,
   "metadata": {},
   "outputs": [],
   "source": [
    "def get_image_batch(urls):\n",
    "    return_list = []\n",
    "    for i, url in enumerate(urls):\n",
    "        #print(i, url)\n",
    "        return_list.append(np.array(image2feature(url)).reshape(224,224,3))\n",
    "    \n",
    "    return return_list"
   ]
  },
  {
   "cell_type": "code",
   "execution_count": 8,
   "metadata": {},
   "outputs": [
    {
     "data": {
      "text/plain": [
       "(10, 224, 224, 3)"
      ]
     },
     "execution_count": 8,
     "metadata": {},
     "output_type": "execute_result"
    }
   ],
   "source": [
    "samples = get_image_batch(sample_df.url.iloc[:10].tolist())\n",
    "np.array(samples).shape"
   ]
  },
  {
   "cell_type": "code",
   "execution_count": 9,
   "metadata": {},
   "outputs": [],
   "source": [
    "class DataGenerator(keras.utils.Sequence):\n",
    "    \n",
    "    def __init__(self, files, batch_size):\n",
    "        self.files = files\n",
    "        self.batch_size = batch_size\n",
    "        self.on_epoch_end()\n",
    "        \n",
    "    def __len__(self):\n",
    "        return int(np.floor(len(self.files))/self.batch_size)\n",
    "    \n",
    "    \n",
    "    def __getitem__(self, index):\n",
    "        indexes = self.indexes[index*self.batch_size:(index+1)*self.batch_size]\n",
    "        files_temp = [self.files[k] for k in indexes]\n",
    "        X = self.__data_generation(files_temp)\n",
    "        # predict 뿐만아니라 fit에 쓰고 싶으면 y도 return해야함\n",
    "        return X\n",
    "        \n",
    "    def __data_generation(self, files_temp):\n",
    "        X = np.array(get_image_batch(files_temp))\n",
    "        return X\n",
    "        \n",
    "    def on_epoch_end(self):\n",
    "        self.indexes = np.arange(len(self.files))\n",
    "        # you can add shuffling index"
   ]
  },
  {
   "cell_type": "markdown",
   "metadata": {},
   "source": [
    "### Test: single vs multi"
   ]
  },
  {
   "cell_type": "code",
   "execution_count": 10,
   "metadata": {},
   "outputs": [
    {
     "name": "stdout",
     "output_type": "stream",
     "text": [
      "100 10 10\n"
     ]
    }
   ],
   "source": [
    "test_size = 100\n",
    "batch_size = 10\n",
    "step = 0\n",
    "if test_size%batch_size == 0:\n",
    "    step = int(test_size/batch_size)\n",
    "else:\n",
    "    step = int(test_size/batch_size) + 1\n",
    "\n",
    "print(test_size, batch_size, step)"
   ]
  },
  {
   "cell_type": "code",
   "execution_count": 11,
   "metadata": {},
   "outputs": [],
   "source": [
    "model = ResNet50(weights='imagenet', include_top=True)"
   ]
  },
  {
   "cell_type": "code",
   "execution_count": 12,
   "metadata": {},
   "outputs": [],
   "source": [
    "pred_generator = DataGenerator(sample_df.url[:test_size].tolist(), batch_size)"
   ]
  },
  {
   "cell_type": "code",
   "execution_count": 13,
   "metadata": {
    "scrolled": true
   },
   "outputs": [
    {
     "name": "stdout",
     "output_type": "stream",
     "text": [
      " 2/10 [=====>........................] - ETA: 59s "
     ]
    },
    {
     "name": "stderr",
     "output_type": "stream",
     "text": [
      "/Users/1003874/anaconda/envs/nlp/lib/python3.5/site-packages/PIL/Image.py:885: UserWarning: Palette images with Transparency   expressed in bytes should be converted to RGBA images\n",
      "  'to RGBA images')\n"
     ]
    },
    {
     "name": "stdout",
     "output_type": "stream",
     "text": [
      "10/10 [==============================] - 63s 6s/step\n",
      "CPU times: user 2min 29s, sys: 9.36 s, total: 2min 38s\n",
      "Wall time: 1min 2s\n"
     ]
    }
   ],
   "source": [
    "%%time\n",
    "single_proc = model.predict_generator(pred_generator, \n",
    "                                        steps=step, \n",
    "                                        workers=1, \n",
    "                                        max_queue_size=10, \n",
    "                                        use_multiprocessing=False,\n",
    "                                        verbose=1)"
   ]
  },
  {
   "cell_type": "code",
   "execution_count": 14,
   "metadata": {},
   "outputs": [
    {
     "name": "stderr",
     "output_type": "stream",
     "text": [
      "/Users/1003874/anaconda/envs/nlp/lib/python3.5/site-packages/PIL/Image.py:885: UserWarning: Palette images with Transparency   expressed in bytes should be converted to RGBA images\n",
      "  'to RGBA images')\n",
      "/Users/1003874/anaconda/envs/nlp/lib/python3.5/site-packages/PIL/Image.py:885: UserWarning: Palette images with Transparency   expressed in bytes should be converted to RGBA images\n",
      "  'to RGBA images')\n"
     ]
    },
    {
     "name": "stdout",
     "output_type": "stream",
     "text": [
      " 9/10 [==========================>...] - ETA: 3s"
     ]
    },
    {
     "name": "stderr",
     "output_type": "stream",
     "text": [
      "/Users/1003874/anaconda/envs/nlp/lib/python3.5/site-packages/PIL/Image.py:885: UserWarning: Palette images with Transparency   expressed in bytes should be converted to RGBA images\n",
      "  'to RGBA images')\n"
     ]
    },
    {
     "name": "stdout",
     "output_type": "stream",
     "text": [
      "10/10 [==============================] - 31s 3s/step\n",
      "CPU times: user 2min 8s, sys: 9.7 s, total: 2min 18s\n",
      "Wall time: 31.3 s\n"
     ]
    },
    {
     "name": "stderr",
     "output_type": "stream",
     "text": [
      "/Users/1003874/anaconda/envs/nlp/lib/python3.5/site-packages/PIL/Image.py:885: UserWarning: Palette images with Transparency   expressed in bytes should be converted to RGBA images\n",
      "  'to RGBA images')\n"
     ]
    }
   ],
   "source": [
    "%%time\n",
    "multi_proc = model.predict_generator(pred_generator, \n",
    "                                        steps=step, \n",
    "                                        workers=4, \n",
    "                                        max_queue_size=10, \n",
    "                                        use_multiprocessing=True,\n",
    "                                        verbose=1)"
   ]
  },
  {
   "cell_type": "code",
   "execution_count": 15,
   "metadata": {},
   "outputs": [
    {
     "name": "stdout",
     "output_type": "stream",
     "text": [
      "(100, 1000) (100, 1000)\n"
     ]
    }
   ],
   "source": [
    "print(single_proc.shape, multi_proc.shape)"
   ]
  },
  {
   "cell_type": "markdown",
   "metadata": {},
   "source": [
    "### ordering check"
   ]
  },
  {
   "cell_type": "code",
   "execution_count": 16,
   "metadata": {
    "collapsed": true
   },
   "outputs": [],
   "source": [
    "single = np.apply_along_axis(np.argmax, 1, single_proc)\n",
    "multi = np.apply_along_axis(np.argmax, 1, multi_proc)"
   ]
  },
  {
   "cell_type": "code",
   "execution_count": 17,
   "metadata": {},
   "outputs": [
    {
     "data": {
      "text/plain": [
       "True"
      ]
     },
     "execution_count": 17,
     "metadata": {},
     "output_type": "execute_result"
    }
   ],
   "source": [
    "np.all(single == multi)"
   ]
  },
  {
   "cell_type": "code",
   "execution_count": 18,
   "metadata": {},
   "outputs": [
    {
     "data": {
      "text/plain": [
       "array([828, 706, 724, 959, 425, 839, 703, 580, 716, 858, 971, 609, 977,\n",
       "       978, 979, 858, 675, 778, 823, 917, 557, 643, 728, 525, 831, 853,\n",
       "       279, 974, 762, 598, 794, 916, 915, 975, 734, 706, 718, 716, 608,\n",
       "       556, 799, 903, 610, 976, 830, 978, 610, 449, 868, 781, 610, 970,\n",
       "       415, 716, 839, 762, 408, 803, 523, 799, 602, 672, 553, 468, 975,\n",
       "       520, 428, 975, 743, 933, 329, 839, 979, 736, 538, 874, 580, 580,\n",
       "       975, 820, 672, 708, 716, 762, 468, 509, 498, 762, 706, 246, 972,\n",
       "       894, 831, 663, 449, 756, 917, 831, 532, 975])"
      ]
     },
     "execution_count": 18,
     "metadata": {},
     "output_type": "execute_result"
    }
   ],
   "source": [
    "single"
   ]
  },
  {
   "cell_type": "code",
   "execution_count": 19,
   "metadata": {},
   "outputs": [
    {
     "data": {
      "text/plain": [
       "array([828, 706, 724, 959, 425, 839, 703, 580, 716, 858, 971, 609, 977,\n",
       "       978, 979, 858, 675, 778, 823, 917, 557, 643, 728, 525, 831, 853,\n",
       "       279, 974, 762, 598, 794, 916, 915, 975, 734, 706, 718, 716, 608,\n",
       "       556, 799, 903, 610, 976, 830, 978, 610, 449, 868, 781, 610, 970,\n",
       "       415, 716, 839, 762, 408, 803, 523, 799, 602, 672, 553, 468, 975,\n",
       "       520, 428, 975, 743, 933, 329, 839, 979, 736, 538, 874, 580, 580,\n",
       "       975, 820, 672, 708, 716, 762, 468, 509, 498, 762, 706, 246, 972,\n",
       "       894, 831, 663, 449, 756, 917, 831, 532, 975])"
      ]
     },
     "execution_count": 19,
     "metadata": {},
     "output_type": "execute_result"
    }
   ],
   "source": [
    "multi"
   ]
  },
  {
   "cell_type": "code",
   "execution_count": null,
   "metadata": {
    "collapsed": true
   },
   "outputs": [],
   "source": []
  }
 ],
 "metadata": {
  "kernelspec": {
   "display_name": "Python 3",
   "language": "python",
   "name": "python3"
  },
  "language_info": {
   "codemirror_mode": {
    "name": "ipython",
    "version": 3
   },
   "file_extension": ".py",
   "mimetype": "text/x-python",
   "name": "python",
   "nbconvert_exporter": "python",
   "pygments_lexer": "ipython3",
   "version": "3.5.3"
  }
 },
 "nbformat": 4,
 "nbformat_minor": 2
}
